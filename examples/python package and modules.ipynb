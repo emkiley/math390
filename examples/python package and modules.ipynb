{
 "cells": [
  {
   "cell_type": "markdown",
   "metadata": {},
   "source": [
    "## python package and modules\n",
    "\n",
    "As you start adding functions to your own library it may be useful to learn how to organize your own module a bit more conveniently. An easy way to do this is to create a directory, e.g. `pylib` in your home directory. In that directory create an empty file with the name `__init__.py`. Then add into that directory files with names ending in `.py`. Each of these files is a loadable module in your `pylib` package. You can load the package by adding the path in which the package directory is located (e.g. `/home/user/pylib`) to the python path. This can be done either by adding the line \n",
    "```\n",
    "export PYTHONPATH=\"/home/user/pylib\"\n",
    "```\n",
    "to your `.bashrc` file (and start a new terminal). Alternatively this can be done from the ipython notebook with the command\n",
    "```\n",
    "In [3]: import sys\n",
    "In [4]: sys.path.append('/home/user/pylib')\n",
    "```\n",
    "which has the disadvantage that it has to be done each time again.\n",
    "\n",
    "In the git repository top level an example `pylib` dir can be found.\n",
    "\n",
    "## private methods\n",
    "\n",
    "By convention python adopts a single leading underscore for private objects in a module and a double leading underscore for private objects in a class."
   ]
  }
 ],
 "metadata": {
  "kernelspec": {
   "display_name": "Python 3",
   "language": "python",
   "name": "python3"
  },
  "language_info": {
   "codemirror_mode": {
    "name": "ipython",
    "version": 3
   },
   "file_extension": ".py",
   "mimetype": "text/x-python",
   "name": "python",
   "nbconvert_exporter": "python",
   "pygments_lexer": "ipython3",
   "version": "3.5.1"
  }
 },
 "nbformat": 4,
 "nbformat_minor": 0
}
