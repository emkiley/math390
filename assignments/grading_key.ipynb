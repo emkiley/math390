{
 "cells": [
  {
   "cell_type": "markdown",
   "metadata": {},
   "source": [
    "## Grading key for assignments\n",
    "\n",
    " The maximum grade on the assignment is 10.  It is computed by averaging\n",
    " the grades of each problem, which were also scored out of 10. \n",
    "\n",
    "* 1/4 point for **minor** errors, such as:\n",
    "    - Failing to document a function.  What does the function do?  How are the arguments relevant?  What data types does your function accept... and work as intended? \n",
    "    - Having un-used variables.\n",
    "    - Including libraries you do not use. \n",
    "\n",
    "* 1/2 point for **small** errors, such as:\n",
    "    - Calling a similar but incorrect library function. For example, some people used float division \"/\" when they really required integer division \"//\". Both calls perform similar tasks, but if you need the output to be an integer you need to use \"//\".  \n",
    "    - Using the wrong file name.\n",
    "    - Storing files in the wrong directories.\n",
    "    - Naming your Bitbucket root directory incorrectly. \n",
    "    - Setting up an index/range incorrectly, such as range(0,n-1) vs. range(0,n).  Or using i-1 when i was called for. \n",
    "    - approriate reflection on reliability and accuracy of results is missing.\n",
    "    \n",
    "* 1 or more points are deducted for **major errors**, such as:\n",
    "    - Using a library that **does not do** what you expect.  If you are using a library -- especially one we have not discussed in class -- the onus is on you to read the documentation to ensure the library call achieves what you desire.  For example, using a least-squares library call that does not compute the fit that you desire. \n",
    "    - Writing an algorithm that **by design** can not do what we are asking for. This includes issues like calling good algorithms in a way in which their execution provides data that you should expect is not useful. \n",
    "    - Submitting a notebook in which the python cells do not execute (we are using the physma VM (Lubuntu 15) with the Anaconda Python 3.5 distribution as reference plattform.\n",
    "    - Algorithm provided gives obiously wrong answer without reflection on what may be the cause.\n",
    " \n",
    "In questions where there is a clear divison into parts, the solution key will indicate how many points are available for completing that task successfully. \n",
    " "
   ]
  },
  {
   "cell_type": "code",
   "execution_count": null,
   "metadata": {
    "collapsed": true
   },
   "outputs": [],
   "source": []
  }
 ],
 "metadata": {
  "kernelspec": {
   "display_name": "Python 3",
   "language": "python",
   "name": "python3"
  },
  "language_info": {
   "codemirror_mode": {
    "name": "ipython",
    "version": 3
   },
   "file_extension": ".py",
   "mimetype": "text/x-python",
   "name": "python",
   "nbconvert_exporter": "python",
   "pygments_lexer": "ipython3",
   "version": "3.4.3"
  }
 },
 "nbformat": 4,
 "nbformat_minor": 0
}
