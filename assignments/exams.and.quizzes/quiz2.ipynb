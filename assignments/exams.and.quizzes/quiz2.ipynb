{
 "cells": [
  {
   "cell_type": "markdown",
   "metadata": {},
   "source": [
    "## Second quiz\n",
    "\n",
    "Write an algorithm as a Python function $findSum( N, S )$ that takes as input two positive integers $N$ and $S$ and determines all possible ways of inserting $+$ signs between the digits of $N$ so that the sum adds up to $S$.  \n",
    "\n",
    "eg: $N = 12345, S = 60$\n",
    "\n",
    "$$findSum( 12345, 60 ) == [\"12+3+45\"] $$\n",
    "\n",
    "Your output can be a list of strings, such as the above, or a list of list of integers, i.e. $findSum( 12345, 60 ) == [[12,3,45]]$, it is up to you. \n",
    "\n",
    "If you like, consider using sympy's sympify routine.  It functions like a string-based calculator.  Execute the line of code below to see what I mean.  Similarly, it helps to use Python's string manipulation routines. "
   ]
  },
  {
   "cell_type": "code",
   "execution_count": null,
   "metadata": {
    "collapsed": false
   },
   "outputs": [],
   "source": [
    "import sympy as sp\n",
    "sp.sympify(\"10+2\")"
   ]
  },
  {
   "cell_type": "code",
   "execution_count": null,
   "metadata": {
    "collapsed": false
   },
   "outputs": [],
   "source": [
    "str1 = \"12345\"\n",
    "print(str1[:2]+\"+\"+str1[2:])"
   ]
  },
  {
   "cell_type": "code",
   "execution_count": null,
   "metadata": {
    "collapsed": false
   },
   "outputs": [],
   "source": []
  },
  {
   "cell_type": "code",
   "execution_count": null,
   "metadata": {
    "collapsed": false
   },
   "outputs": [],
   "source": []
  },
  {
   "cell_type": "code",
   "execution_count": null,
   "metadata": {
    "collapsed": true
   },
   "outputs": [],
   "source": []
  }
 ],
 "metadata": {
  "kernelspec": {
   "display_name": "Python 3",
   "language": "python",
   "name": "python3"
  },
  "language_info": {
   "codemirror_mode": {
    "name": "ipython",
    "version": 3
   },
   "file_extension": ".py",
   "mimetype": "text/x-python",
   "name": "python",
   "nbconvert_exporter": "python",
   "pygments_lexer": "ipython3",
   "version": "3.4.3"
  }
 },
 "nbformat": 4,
 "nbformat_minor": 0
}
