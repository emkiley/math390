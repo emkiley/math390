{
 "cells": [
  {
   "cell_type": "markdown",
   "metadata": {},
   "source": [
    "# Mid-Term Exam\n",
    "\n",
    "## Intro:\n",
    "\n",
    "A naive model for a pendulum, experiencing only gravity and friction is given by\n",
    "the differential equation\n",
    "$$ \\theta'' + a\\theta' + b\\sin(\\theta) = 0$$\n",
    "with $a \\geq 0, b > 0$ constant. The model is dimensionless, and physical values for an actual problem would appear in the constants $a$ and $b$.\n",
    "\n",
    "Considering $\\theta'$ as a new variable we can turn this into a first-order ODE\n",
    "$$\\pmatrix{\\theta \\cr \\theta'}' = \\pmatrix{ \\theta' \\cr -a\\theta' -b\\sin\\theta}$$\n",
    "\n",
    "## Part 0:  \n",
    "Create a new directory in your personal repo called `midterm-exam`. Copy this notebook from the course repo into that directory. Do the solution inside this copied notebook. Add the entire directory to your personal git repo and push the solution back to your bitbucket remote. To be sure it will work set this up in the beginning and consider pushing intermediate results.\n",
    "\n",
    "\n",
    "## Part 1\n",
    "\n",
    "Write a function that takes as input:\n",
    "\n",
    "- An interval `I` that represents the dimensionless time interval, implemented as a 2-element array.\n",
    "- The number of divisions `n` of the interval `I`.\n",
    "- The initial value of θ\n",
    "- The initial value of θ'\n",
    "    \n",
    "   The function should return an array `[T, thA, thpA]` where:\n",
    "   \n",
    "   - `T` is an array that represents dimensionless time steps and consists of `n` regularly spaced points in `I`\n",
    "   - `thA` is an array consists of the approximate values of $\\theta$ at the times of `T`.\n",
    "   - `thpA` is an array consists of the approximate values of $\\theta'$ at the times of `T`. \n",
    "\n",
    "Use Eulers method to construct `thA` and `thpA`, i.e.:\n",
    "\n",
    "$$\\theta(t + \\Delta t ) \\simeq \\theta(t) + \\Delta t \\theta'(t)$$\n",
    "$$\\theta'(t+\\Delta t) \\simeq \\theta'(t) + \\Delta t \\theta''(t).$$\n",
    "\n",
    "i.e. $thA[i+1] = thA[i] + \\Delta t * thpA[i]$, etc. "
   ]
  },
  {
   "cell_type": "code",
   "execution_count": null,
   "metadata": {
    "collapsed": true
   },
   "outputs": [],
   "source": []
  },
  {
   "cell_type": "markdown",
   "metadata": {},
   "source": [
    "## Part 2\n",
    "\n",
    "Sketch a few of your solutions $(t,y)$ for various step sizes, `n=10`, `n=50`, `n=200` with \n",
    "initial conditions:\n",
    "\n",
    "$$ a = 1, \\ \\ \\ b=1, \\ \\ \\ \\theta(0) = 0, \\ \\ \\ \\theta'(0) = 10. $$\n"
   ]
  },
  {
   "cell_type": "code",
   "execution_count": null,
   "metadata": {
    "collapsed": true
   },
   "outputs": [],
   "source": []
  },
  {
   "cell_type": "markdown",
   "metadata": {},
   "source": [
    "## Part 3\n",
    "\n",
    "Your solution will converge asymptotically to $\\theta = 2\\pi k$ for some integer $k$, i.e. the pendulum will eventually come to rest after possibly revolving $k$ times.  Make sure your numerical solution is accurate enough so that the Euler-approximation to your differential equation can predict what $k$ is for the initial conditions in part 2. "
   ]
  },
  {
   "cell_type": "code",
   "execution_count": null,
   "metadata": {
    "collapsed": true
   },
   "outputs": [],
   "source": []
  }
 ],
 "metadata": {
  "kernelspec": {
   "display_name": "Python 2",
   "language": "python",
   "name": "python2"
  },
  "language_info": {
   "codemirror_mode": {
    "name": "ipython",
    "version": 2
   },
   "file_extension": ".py",
   "mimetype": "text/x-python",
   "name": "python",
   "nbconvert_exporter": "python",
   "pygments_lexer": "ipython3",
   "version": "3.5.1"
  }
 },
 "nbformat": 4,
 "nbformat_minor": 0
}
