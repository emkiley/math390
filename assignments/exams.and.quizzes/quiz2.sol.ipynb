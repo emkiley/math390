{
 "cells": [
  {
   "cell_type": "markdown",
   "metadata": {},
   "source": [
    "## Second quiz\n",
    "\n",
    "Write an algorithm as a Python function $findSum( N, S )$ that takes as input two positive integers $N$ and $S$ and determines all possible ways of inserting $+$ signs between the digits of $N$ so that the sum adds up to $S$.  \n",
    "\n",
    "eg: $N = 12345, S = 60$\n",
    "\n",
    "$$findSum( 12345, 60 ) == [\"12+3+45\"] $$\n",
    "\n",
    "Your output can be a list of strings, such as the above, or a list of list of integers, i.e. $findSum( 12345, 60 ) == [[12,3,45]]$, it is up to you. \n",
    "\n",
    "If you like, consider using sympy's sympify routine.  It functions like a string-based calculator.  Execute the line of code below to see what I mean.  Similarly, it helps to use Python's string manipulation routines. "
   ]
  },
  {
   "cell_type": "code",
   "execution_count": null,
   "metadata": {
    "collapsed": false
   },
   "outputs": [],
   "source": []
  },
  {
   "cell_type": "code",
   "execution_count": 17,
   "metadata": {
    "collapsed": false
   },
   "outputs": [
    {
     "name": "stdout",
     "output_type": "stream",
     "text": [
      "1234 1234\n",
      "123+4 127\n",
      "12+34 46\n",
      "12+3+4 19\n",
      "1+234 235\n",
      "1+23+4 28\n",
      "1+2+34 37\n",
      "1+2+3+4 10\n"
     ]
    },
    {
     "data": {
      "text/plain": [
       "['1+2+34']"
      ]
     },
     "execution_count": 17,
     "metadata": {},
     "output_type": "execute_result"
    }
   ],
   "source": [
    "import sympy as sp\n",
    "def findSum( N, S ):\n",
    "    Ns = str(N)\n",
    "    retval = []\n",
    "    ## let's run through all possible places to put + symbols, we can\n",
    "    ## put them between digits 0&1, 1&2, ..., len-2&len-1 i.e. there are\n",
    "    ## len-1 possible positions, so we are looking at all subsets of an\n",
    "    ## len-1-element set.  Let's use binary. There are 2**(len-1) such\n",
    "    ## sets, so we just iterate through them all.  Ugly code but it'll\n",
    "    ## work!\n",
    "    for i in range(2**(len(Ns)-1)):\n",
    "        B = i\n",
    "        bitfield = []\n",
    "        for j in range(len(Ns)-1):\n",
    "            bitfield.append( B % 2 )\n",
    "            B = B // 2\n",
    "        #print(bitfield)\n",
    "        cNs = str(Ns)\n",
    "        L = len(cNs)-1\n",
    "        for i in range(len(bitfield)):\n",
    "            if bitfield[i] == 1:\n",
    "                cNs = cNs[:L-i] + \"+\" + cNs[L-i:]\n",
    "        print(cNs, sp.sympify(cNs) )\n",
    "        if sp.sympify(cNs) == S:\n",
    "            retval.append(cNs)\n",
    "    return retval\n",
    "\n",
    "findSum( 1234, 37 )"
   ]
  },
  {
   "cell_type": "code",
   "execution_count": null,
   "metadata": {
    "collapsed": true
   },
   "outputs": [],
   "source": []
  }
 ],
 "metadata": {
  "kernelspec": {
   "display_name": "Python 3",
   "language": "python",
   "name": "python3"
  },
  "language_info": {
   "codemirror_mode": {
    "name": "ipython",
    "version": 3
   },
   "file_extension": ".py",
   "mimetype": "text/x-python",
   "name": "python",
   "nbconvert_exporter": "python",
   "pygments_lexer": "ipython3",
   "version": "3.4.3"
  }
 },
 "nbformat": 4,
 "nbformat_minor": 0
}
