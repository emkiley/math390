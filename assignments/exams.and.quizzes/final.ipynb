{
 "cells": [
  {
   "cell_type": "markdown",
   "metadata": {},
   "source": [
    "## Physics/Math 248 Final Exam.  \n",
    "\n",
    "You have three hours.  You are encouraged to use any material from the course, such as your own work and class notebooks. You are also free to use standard on-line resources such as Python reference manuals.  You must do all the work on your own, i.e. no consulting with fellow students or with people on-line.  Once you have completed your exam, push your notebook to your bitbucket repository. "
   ]
  },
  {
   "cell_type": "markdown",
   "metadata": {},
   "source": [
    "**Final Exam Problem Setup**\n",
    "\n",
    "We have two billiard balls $A$ and $B$, constrained to move along a frictionless line $x \\geq 0$. There is no gravity.  At position $x=0$ is an immovable elastic wall.  Billiard $A$ has mass $m_A$. Billiard $B$ has mass $m_B$.\n",
    "\n",
    "<img src=\"F.Q1.Setup.png\" /img>\n",
    "\n",
    "The initial position of billard $A$ is $x=1$. The initial position of billiard $B$ is at $x=2$. \n",
    "\n",
    "As the wall is completely elastic, when billiard $A$ collides with the wall, its velocity instantaneously reverses, i.e. $v_A' = - v_A$. \n",
    "\n",
    "When billiard $A$ and $B$ collide, the new velocity of billiard $A$ and $B$ are given by:\n",
    "\n",
    "$$v_A' = \\frac{m_A-m_B}{m_A+m_B}v_A + \\frac{2m_B}{m_A+m_B}v_B$$\n",
    "$$v_B' = \\frac{m_B-m_A}{m_A+m_B}v_B + \\frac{2m_A}{m_A+m_B}v_A$$\n",
    "\n",
    "Thus provided $m_B > m_A$ billiard $A$ will undergo a sequence of velocity sign changes as it collides with billiard $B$ and the wall, in succession, until billiard $B$ escapes (to the right) at a larger velocity than billiard $A$. "
   ]
  },
  {
   "cell_type": "markdown",
   "metadata": {},
   "source": [
    "**Problem 1:**\n",
    "\n",
    "Write an algorithm that takes as input the initial velocity of billiard $A$, $B$, and the masses\n",
    "of billiards $A$ and $B$ respectively.  The output will be a pair $(c_1,c_2)$ where $c_1$ is the number of  collisions billiard $A$ makes with the wall, and $c_2$ is the number of collisions billiard $A$ makes with billiard $B$, before $B$ escapes to the right. \n",
    " \n",
    "<img src=\"F.Q1.Context.png\" /img>\n",
    "\n",
    "Note, the radius of the billiards is not relevant for any of the problems in this notebook. "
   ]
  },
  {
   "cell_type": "code",
   "execution_count": null,
   "metadata": {
    "collapsed": false
   },
   "outputs": [],
   "source": []
  },
  {
   "cell_type": "markdown",
   "metadata": {},
   "source": [
    "**Problem 2: **\n",
    "\n",
    "For $m_A=1$ and $m_B = 10^2, 10^4, 10^6, \\cdots $, let the initial velocity of \n",
    "billiard $A$ be zero and the initial velocity of billiard $B$ be $-1$. \n",
    "\n",
    "Print out: \n",
    "\n",
    "    a) The number of collisions of A with the wall. \n",
    "    b) The number of collisions of B with A. \n",
    "    c) The total number of collisions of all types, i.e. (a)+(b). "
   ]
  },
  {
   "cell_type": "code",
   "execution_count": null,
   "metadata": {
    "collapsed": false
   },
   "outputs": [],
   "source": []
  },
  {
   "cell_type": "markdown",
   "metadata": {
    "collapsed": true
   },
   "source": [
    "You should begin to see a pattern in your answer to Problem 2. \n",
    "\n",
    "**Problem 3: **\n",
    "\n",
    "Infer a function $f(m_B)$ so that the limit\n",
    "\n",
    "$$\\lim_{m_B \\to \\infty} \\frac{coll(m_B)}{f(m_B)} = L$$\n",
    "\n",
    "exists, with $L \\neq 0$.  \n",
    "\n",
    "$coll(m_B)$ is the sum of the number of collisions between $A$ and $B$, as well as $A$ and the wall, i.e. the answer to 2(c). "
   ]
  },
  {
   "cell_type": "code",
   "execution_count": null,
   "metadata": {
    "collapsed": false
   },
   "outputs": [],
   "source": []
  },
  {
   "cell_type": "markdown",
   "metadata": {},
   "source": [
    "**Problem 4: **\n",
    "\n",
    "To demonstrate how quickly $coll(m_B)/f(m_B)$ converges to $L$, create a plot consisting of:\n",
    "\n",
    "    1) A horizontal line at height L. \n",
    "    2) coll(m_B)/f(m_B) for m_B=1, 10, 10^2, 10^3, 10^4, 10^5, 10^6. \n",
    "\n",
    "Perhaps your x-coordinate should be $n$ where $m_B=10^n$.  Make the horizontal line (1) a different colour from (2)."
   ]
  },
  {
   "cell_type": "code",
   "execution_count": null,
   "metadata": {
    "collapsed": false
   },
   "outputs": [],
   "source": []
  },
  {
   "cell_type": "markdown",
   "metadata": {},
   "source": [
    "**Problem 5:**\n",
    "\n",
    "Write an algorithm that takes as input any initial masses, positions and initial velocities and outputs a (matplotlib) plot like the one below, which depicts the path both mass $A$ and $B$ take, including all collisions. \n",
    "\n",
    "<img src=\"F.Q1.Context.png\" /img>\n"
   ]
  },
  {
   "cell_type": "code",
   "execution_count": null,
   "metadata": {
    "collapsed": false
   },
   "outputs": [],
   "source": []
  }
 ],
 "metadata": {
  "kernelspec": {
   "display_name": "Python 2",
   "language": "python",
   "name": "python2"
  },
  "language_info": {
   "codemirror_mode": {
    "name": "ipython",
    "version": 2
   },
   "file_extension": ".py",
   "mimetype": "text/x-python",
   "name": "python",
   "nbconvert_exporter": "python",
   "pygments_lexer": "ipython2",
   "version": "2.7.9"
  }
 },
 "nbformat": 4,
 "nbformat_minor": 0
}
