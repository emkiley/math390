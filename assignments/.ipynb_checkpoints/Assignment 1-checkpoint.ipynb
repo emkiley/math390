{
 "cells": [
  {
   "cell_type": "markdown",
   "metadata": {},
   "source": [
    "Name your files: *A1P1.ipynb* and *A1P2.ipynb* for problems 1 and 2 of Assignment 1. \n",
    "\n",
    "Each student should have a copy of their assignment in their *assignment* directory.  At the top of the assignment, list all collaborators (including yourself!).\n",
    "\n",
    "# General assignment rules\n",
    "\n",
    "Assignments are added to your [own repository that you share with the instructor](https://github.com/emkiley/math390/Topic_02.ipynb). For each assignment, you create a new directory called exactly what the header of the assignement is (without the markup #). So in this case the directory in your repo would be called `Assignment_0`. Your repo with the assignment added must be pushed to the bitbucket remote before the due date/time. Since some automated processes will then pull all assignment repos for all students, you must submit on time. Late submissions require extra manual work and carry an automatic 20% grade deduction.\n",
    "\n",
    "# Problem 1\n",
    "\n",
    "(1) Consider the cubic polynomial $z^3-1$.  The roots in the complex plane are $1, e^{2 \\pi i/3}$ and $e^{-2 \\pi i /3}$. \n",
    "\n",
    "Write a *python function* that takes as input four floting point numbers $x_0, x_1, y_0, y_1$ and an integer $n$. The output will be a graphical plot (on the screen). The plot will have a resolution of $n \\times n$ pixels and will use three colours of your choice. \n",
    "\n",
    "*Description of the plot*: given a point with coordinates $(p,q)$ in your plot, apply Newton's method (given below) with initial condition $(-2+4p/n) + (-2+4q/n)i$ where here $i^2 = -1$.  If Newton's method appears to converge to $e^{2\\pi ik/3}$ colour the point with coordinates $(p,q)$ with the $k$-th colour.    \n",
    "\n",
    "In your IPython notebook, include one image with $n = 400$. "
   ]
  },
  {
   "cell_type": "code",
   "execution_count": 3,
   "metadata": {},
   "outputs": [
    {
     "name": "stdout",
     "output_type": "stream",
     "text": [
      "('Initial condition: ', (1.0 + 0.5j))\n",
      "(0.8266666666666666667 + 0.12j)\n",
      "(1.009101293268602287 - 0.05582701123777840886j)\n",
      "(0.9970913786920296195 - 0.001218678160774645252j)\n",
      "(1.000006990428805843 + 7.128339109188268049e-6j)\n",
      "(0.9999999999980538418 + 9.96593837081526383e-11j)\n",
      "('Evaluating ', x**3 - 1, ' at ', (0.9999999999980538418 + 9.96593837081526383e-11j), ' gives: ', -5.8383298493809e-12 + 2.98978151123294e-10*I)\n",
      "('Initial condition: ', (-1.0 + 0.5j))\n",
      "(-0.5066666666666666667 + 0.5466666666666666667j)\n",
      "(-0.3832817777777777778 + 0.9627164444444444444j)\n",
      "(-0.4810173976123450126 + 0.8551826783058666047j)\n",
      "(-0.5004900329923770473 + 0.8660135028433907189j)\n",
      "(-0.50000010998239533 + 0.8660251902444721468j)\n",
      "('Evaluating ', x**3 - 1, ' at ', (-0.50000010998239533 + 0.8660251902444721468j), ' gives: ', -3.89819586060623e-7 + 6.06052437207287e-7*I)\n",
      "Both are very close to zero.\n"
     ]
    }
   ],
   "source": [
    "## Newton's method that allows for complex number input.\n",
    "import sympy as sym\n",
    "\n",
    "sym_x=sym.Symbol(\"x\")\n",
    "\n",
    "def OI_Newton( f ):\n",
    "    g = sym_x - f/sym.diff(f,sym_x)\n",
    "    return g\n",
    "\n",
    "Sym_func = sym_x**3 - 1\n",
    "\n",
    "Newt_Iterator = OI_Newton(Sym_func)\n",
    "\n",
    "from mpmath import *\n",
    "\n",
    "mp.dps = 20\n",
    "mp.prec = mp.dps * 3.34\n",
    "mp.pretty = True\n",
    "\n",
    "NIt = sym.lambdify(sym_x, Newt_Iterator, \"mpmath\")\n",
    "\n",
    "## Here is an example of how Newton's method for z^3 - 1 converges to two different\n",
    "## roots, depending on initial condition.\n",
    "\n",
    "z = mpc(1.0, 0.5) ## mpc is the mpmath arbitrary-precision complex number floating-point type.\n",
    "print(\"Initial condition: \", z)\n",
    "\n",
    "for i in range(0,5):\n",
    "    Z = z\n",
    "    z = NIt(z)\n",
    "    print z\n",
    "\n",
    "print(\"Evaluating \", Sym_func, \" at \", z, \" gives: \", Sym_func.evalf(subs = {sym_x : z}))\n",
    "    \n",
    "z = mpc(-1,0.5)\n",
    "print(\"Initial condition: \", z)\n",
    "\n",
    "for i in range(0,5):\n",
    "    Z = z\n",
    "    z = NIt(z)\n",
    "    print z\n",
    "\n",
    "print(\"Evaluating \", Sym_func, \" at \", z, \" gives: \", Sym_func.evalf(subs = {sym_x : z}))\n",
    "\n",
    "print(\"Both are very close to zero.\")"
   ]
  },
  {
   "cell_type": "code",
   "execution_count": null,
   "metadata": {
    "collapsed": true
   },
   "outputs": [],
   "source": []
  },
  {
   "cell_type": "markdown",
   "metadata": {},
   "source": [
    "# Problem 2\n",
    "\n",
    "(2) In class we have seen implementations of the mid-point rule and Simpson's 3/8-method to approximate integrals. One of the key features of these methods (especially useful when your function comes from measured data) is that the technique uses as its input **only** the values of $f(x)$ at a finite number of points.  Sometimes one has access to **more** information about $f$ than simply its values.  In this problem, we ask you to write a script to approximate integrals numerically, but where one has a **symbolic** expression for $f$, and therefore using sympy, one also has access to $f'$. \n",
    "\n",
    "**Fact** Given an interval $[a,b]$ and numbers $f_a, f'_a, f_b, f'_b$ there exists one (and only one) cubic polynomial $p(x) = c_0 + c_1 x + c_2 x^2 + c_3 x^3$ such that $$p(a) = f_a, \\ \\ p'(a) = f'_a, \\ \\ p(b) = f_b, \\ \\ p'(b) = f'_b$$\n",
    "\n",
    "Moreover, one can solve for $c_0,c_1,c_2,c_3$ fairly easily.  The above equations are:\n",
    "\n",
    "$$c_0 + c_1 a + c_2 a^2 + c_3 a^3 = f_a \\ [eq.1]\\ \\ c_0 + c_1 b + c_2 b^2 + c_3 b^3 = f_b \\ [eq.2] $$\n",
    "$$c_1 + 2c_2a + 3c_3a^2 = f'_a \\ [eq.3] \\ \\ c_1 + 2c_2b+3c_3b^2 = f'_b \\ [eq.4] $$\n",
    "\n",
    "a little manipulation and one gets to the expression:\n",
    "\n",
    "$$\\pmatrix{ c_2 \\\\ c_3} = \\frac{1}{(a-b)^3} \\cdot \\pmatrix{ 3(b+a) & -2(b^2+ba+a^2) \\\\ -2 & b+a} \\cdot \\pmatrix{ f_a - f_b + bf_b' - af_a' \\\\ f_b' -f_a'}$$\n",
    "\n",
    "the middle expression is a $2 \\times 2$ matrix. From the above one can solve for $c_0$ and $c_1$ by back-substituting into [eq.1] and [eq.3] (or [eq.2] and [eq.4], your choice). \n",
    "\n",
    "Compare the accuracy of this method to the mid-point and Simpson 3/8-method, for the computation of the integral $\\int_0^\\pi \\sin(x) dx = 2$. Try the number of intervals $n=10, 100, 1000$ for all three methods. \n",
    "\n",
    "Aside from accuracy, what other considerations would cause you to prefer one method over the other two?"
   ]
  },
  {
   "cell_type": "code",
   "execution_count": 2,
   "metadata": {},
   "outputs": [],
   "source": [
    "def midpt_integral(f, I, k): \n",
    "    sum = 0\n",
    "    deltax = (I[1]-I[0])/float(k)\n",
    "    for i in range (0, k):\n",
    "        x = ((i/float(k))*I[1]) + ((1.0-(i/float(k)))*I[0]) + deltax/2\n",
    "        sum = sum + f(x)*deltax\n",
    "    return sum\n",
    "\n",
    "\n",
    "def threeeight_integral(f, I, k): \n",
    "    sum = 0\n",
    "    deltax = (I[1]-I[0])/k\n",
    "    for i in range (0, k):\n",
    "        xa = ((i/float(k))*I[1]) + ((1-i/float(k))*I[0]) \n",
    "        xb = ((i/float(k))*I[1]) + ((1-i/float(k))*I[0]) + deltax/3 \n",
    "        xc = ((i/float(k))*I[1]) + ((1-i/float(k))*I[0]) + (2*deltax)/3\n",
    "        xd = ((i/float(k))*I[1]) + ((1-i/float(k))*I[0]) + deltax\n",
    "        sum = sum + ( f(xa) + 3*f(xb) + 3*f(xc) + f(xd) )*deltax/8\n",
    "    return sum\n",
    "\n",
    "def cubic_spline_int(f,I,k):\n",
    "    sum = 0\n",
    "    ## TODO... figure out what sum should be\n",
    "    return sum"
   ]
  },
  {
   "cell_type": "code",
   "execution_count": 5,
   "metadata": {},
   "outputs": [
    {
     "name": "stdout",
     "output_type": "stream",
     "text": [
      "('Midpoint with 10 subdivisions: ', 2.002057648285417056, 'Error ', -0.002057648285417055633)\n",
      "('Three eights integral: ', 2.000023367367170042, 'Error ', -0.00002336736717004186991)\n"
     ]
    }
   ],
   "source": [
    "subdivisions = 20\n",
    "## Ensure your cubic_spline_int function is callable as below. \n",
    "#print \"Cubic spline with 10 subdivisions: \", cubic_spline_int(sin(sym_x), [mpf('0'), pi], subdivisions), \"Error: \", 2.0-cubic_spline_int(sin(sym_x), [mpf('0'), pi], subdivisions)\n",
    "# you need to create the cubic_spline_int function, this is your homework. \n",
    "print(\"Midpoint with 10 subdivisions: \", midpt_integral(sin, [0.0, pi], subdivisions), \"Error \", 2.0 - midpt_integral(sin, [0.0, pi], subdivisions))\n",
    "print(\"Three eights integral: \", threeeight_integral(sin, [0.0, pi], subdivisions/3), \"Error \", 2.0 - threeeight_integral(sin, [0.0, pi], subdivisions/3))\n"
   ]
  },
  {
   "cell_type": "code",
   "execution_count": null,
   "metadata": {
    "collapsed": true
   },
   "outputs": [],
   "source": []
  }
 ],
 "metadata": {
  "kernelspec": {
   "display_name": "Python 3",
   "language": "python",
   "name": "python3"
  },
  "language_info": {
   "codemirror_mode": {
    "name": "ipython",
    "version": 3
   },
   "file_extension": ".py",
   "mimetype": "text/x-python",
   "name": "python",
   "nbconvert_exporter": "python",
   "pygments_lexer": "ipython3",
   "version": "3.6.3"
  }
 },
 "nbformat": 4,
 "nbformat_minor": 1
}
