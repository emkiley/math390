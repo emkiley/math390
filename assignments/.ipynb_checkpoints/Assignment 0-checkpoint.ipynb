{
 "cells": [
  {
   "cell_type": "markdown",
   "metadata": {},
   "source": [
    "#Assignment_0\n",
    "\n",
    "__Due:__ Monday, February 12, 1:00pm EDT\n",
    "\n",
    "You have probably never submitted an assignment by committing it to your bitbucket git repo. You may also never have created your assignment in an ipython notebook. In order to give you a chance to practice, please work through and submit _Assignment 0_. It will not be graded, but I will look at it and provide general feedback via e-mail.\n",
    "\n",
    "## General assignment rules\n",
    "\n",
    "Assignments are added to your [own repository that you share with the instructors and TAs](https://github.com/emkiley/math390/Topic_02.ipynb). For each assignment, you create a new directory called exactly what the header of the assignement is (without the markup #). So in this case the directory in your repo would be called `Assignment_0`. Your repo with the assignment added must be pushed to the bitbucket remote before the due date/time. Since some automated processes will then pull all assignment repos for all students, you must submit on time. Late submissions require extra manual work and carry an automatic 20% grade deduction.\n",
    "\n",
    "## Tasks for this assignment\n",
    "\n",
    "Make sure that both of these are completed; if the filenames differ, please change them and update your git repository accordingly, making sure you push the changes to your bitbucket account too. See the [Pro Git book](http://www.git-scm.com/book/en/v2) for reminders about how to remove files from your git repository.\n",
    "\n",
    "1. Upload your _unix command cheat sheet_ in a file called `unix_command_summary.txt`; the format must be plain ASCII text; markdown can be used.\n",
    "2. Upload _your own ipython notebook of the language elements_ both as a\n",
    "    * ipython notebook with filename `ipython_survival_guide.ipynb`\n",
    "    * static html file with filename `ipython_survival_guide.html`\n",
    "You might find it useful to use [`jupyter nbconvert`](https://github.com/jupyter/nbconvert) to do this. If you have troubles, please mention this in the class chatroom.\n",
    "    "
   ]
  }
 ],
 "metadata": {
  "kernelspec": {
   "display_name": "Python 3",
   "language": "python",
   "name": "python3"
  },
  "language_info": {
   "codemirror_mode": {
    "name": "ipython",
    "version": 3
   },
   "file_extension": ".py",
   "mimetype": "text/x-python",
   "name": "python",
   "nbconvert_exporter": "python",
   "pygments_lexer": "ipython3",
   "version": "3.6.3"
  }
 },
 "nbformat": 4,
 "nbformat_minor": 1
}
