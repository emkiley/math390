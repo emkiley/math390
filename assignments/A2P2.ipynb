{
 "cells": [
  {
   "cell_type": "markdown",
   "metadata": {},
   "source": [
    "# Assignemnt 2\n",
    "*** Model solution:***\n",
    "## Problem 2\n",
    "\n",
    "### Set up equations\n",
    "* the relevant physics is Kirchhofs Law\n",
    "* the current between two junctions is given by the voltage difference divided by the resistance (Ohm's law)\n",
    "* for each junction the sum of the currents into (or out of) the junction must be zero, i.e. in the voltage differences must contain the voltage at the junction with the same sign \n",
    "* since the resistance is the same for all resistors it cancels and I will dropmit right from the beginning\n",
    "    \n",
    "- v3: $(V_3 - V_4) + (V_3 -5) + (V_3 - V_1) = 0$\n",
    "- v2: $(V_2 - V_4) + (V_2 - 0) + (V_2 - V_1) = 0$\n",
    "- v1: $(V_1 - V_3) + (V_1 - 0) + (V_1 - V_2) + (V_1 - V_4) = 0$\n",
    "- v4: $(V_4 - 5) + (V_4 - V_3) + (V_4 - V_2) + (V_4 - V_1) = 0$"
   ]
  },
  {
   "cell_type": "markdown",
   "metadata": {},
   "source": [
    "### Simplify\n",
    "- v3: $ 3V_3 - V_4 - 5  - V_1 = 0$\n",
    "- v2: $3 V_2 - V_4 - V_1      = 0$\n",
    "- v1: $4 V_1 - V_3 - V_2 - V_4 = 0$\n",
    "- v4: $4 V_4 - 5 - V_3  - V_2 - V_1  = 0$\n"
   ]
  },
  {
   "cell_type": "markdown",
   "metadata": {},
   "source": [
    "### Sort\n",
    "\n",
    "$$\n",
    "- V_1 + 0V_2 + 3 V_3 - V_4 = 5 \n",
    "$$\n",
    "\n",
    "$$\n",
    "- V_1 +3 V_2  + 0V_3 - V_4 = 0 \n",
    "$$\n",
    "\n",
    "$$\n",
    "4 V_1 - V_2 - V_3 - V_4 = 0   \n",
    "$$\n",
    "\n",
    "$$\n",
    "- V_1  - V_2 - V_3 + 4V_4 = 5 \n",
    "$$\n",
    "\n",
    "### Set up coefficient matrix $A$ and RHS vector $\\vec{u}$"
   ]
  },
  {
   "cell_type": "code",
   "execution_count": 3,
   "metadata": {
    "collapsed": false
   },
   "outputs": [],
   "source": [
    "import numpy as np"
   ]
  },
  {
   "cell_type": "code",
   "execution_count": 14,
   "metadata": {
    "collapsed": false
   },
   "outputs": [],
   "source": [
    "A = np.array([[-1,0,3,-1],[-1,3,0,-1],[4,-1,-1,-1],[-1,-1,-1,4]],\\\n",
    "             dtype='float')\n",
    "u = np.array([5,0,0,5],dtype='float')"
   ]
  },
  {
   "cell_type": "code",
   "execution_count": 15,
   "metadata": {
    "collapsed": false
   },
   "outputs": [],
   "source": [
    "import sys\n",
    "sys.path.append('../mypylib')\n",
    "from linalg import matrix as mx"
   ]
  },
  {
   "cell_type": "code",
   "execution_count": 16,
   "metadata": {
    "collapsed": false
   },
   "outputs": [],
   "source": [
    "v=mx.gauss_elim(A,u)"
   ]
  },
  {
   "cell_type": "markdown",
   "metadata": {},
   "source": [
    "The voltages $(V_1, V_2, V_3, V_4)$ are:"
   ]
  },
  {
   "cell_type": "code",
   "execution_count": 17,
   "metadata": {
    "collapsed": false
   },
   "outputs": [
    {
     "name": "stdout",
     "output_type": "stream",
     "text": [
      "[ 2.          1.66666667  3.33333333  3.        ]\n"
     ]
    }
   ],
   "source": [
    "print(v)"
   ]
  },
  {
   "cell_type": "markdown",
   "metadata": {},
   "source": [
    "This answer does not seem unreasonable. \n",
    "* The difference between $V_1$ and $V_4$ is smaller than that between $V_2$ and $V_3$, which makes sense because there is a a direct connection between junction $1$ and $4$, but not between $2$ and $3$.\n",
    "* all voltages are between ground and $V_\\mathrm{Rail}$\n",
    "* the voltages are symmetric, as they should be"
   ]
  }
 ],
 "metadata": {
  "kernelspec": {
   "display_name": "Python 3",
   "language": "python",
   "name": "python3"
  },
  "language_info": {
   "codemirror_mode": {
    "name": "ipython",
    "version": 3
   },
   "file_extension": ".py",
   "mimetype": "text/x-python",
   "name": "python",
   "nbconvert_exporter": "python",
   "pygments_lexer": "ipython3",
   "version": "3.5.1"
  }
 },
 "nbformat": 4,
 "nbformat_minor": 0
}
