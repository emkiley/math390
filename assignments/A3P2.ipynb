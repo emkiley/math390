{
 "cells": [
  {
   "cell_type": "code",
   "execution_count": null,
   "metadata": {
    "collapsed": false
   },
   "outputs": [],
   "source": [
    "%pylab nbagg"
   ]
  },
  {
   "cell_type": "markdown",
   "metadata": {},
   "source": [
    "## Assignment 3\n",
    "\n",
    "## Problem 2\n",
    "\n",
    "### Read initial abundance file\n",
    "In order to make the initial abundance file readable I edit it:\n",
    "* replace `PROT` with `h  1`\n",
    "* remove all lines that I do not need\n",
    "* remove final trailing empty line"
   ]
  },
  {
   "cell_type": "code",
   "execution_count": null,
   "metadata": {
    "collapsed": false
   },
   "outputs": [],
   "source": [
    "#f.close()\n",
    "f=open('iniab1.4E-02As09.ppn')"
   ]
  },
  {
   "cell_type": "code",
   "execution_count": null,
   "metadata": {
    "collapsed": false
   },
   "outputs": [],
   "source": [
    "ind=[];elem=[];A=[];X=[]\n",
    "i=0\n",
    "for line in f.readlines():\n",
    "    a,b,c,d=line.split()\n",
    "    i += 1         # the first column in the file contains the charge \n",
    "    ind.append(i)  # number; we don't need it, but an index variable \n",
    "    elem.append(b) # would be useful\n",
    "    A.append(c)\n",
    "    X.append(d)"
   ]
  },
  {
   "cell_type": "code",
   "execution_count": null,
   "metadata": {
    "collapsed": false
   },
   "outputs": [],
   "source": [
    "# read ini abund tester\n",
    "for i in range(len(ind)):\n",
    "    print (ind[i],elem[i],A[i],X[i])"
   ]
  },
  {
   "cell_type": "markdown",
   "metadata": {},
   "source": [
    "### RHS of network\n",
    "\n",
    "\n",
    "I number reactions in the following way:\n",
    "\n",
    "array index | reaction\n",
    "------------|---------\n",
    "0 |$^{12}\\mathrm{C}+\\mathrm{p} \\rightarrow ^{13}\\mathrm{N}+\\mathrm{\\gamma}$ followed immediately by the $\\beta$ decay of $^{13}\\mathrm{N}$ to $^{13}\\mathrm{C}$\n",
    "1 | $^{13}\\mathrm{C}+\\mathrm{p} \\rightarrow ^{14}\\mathrm{N}+\\mathrm{\\gamma}$ and\n",
    "2 |$^{14}\\mathrm{N}+\\mathrm{p} \\rightarrow ^{15}\\mathrm{O}+\\mathrm{\\gamma}$ followed immediately by the $\\beta$ decay of $^{15}\\mathrm{O}$ to $^{15}\\mathrm{N}$\n",
    "3 | $^{15}\\mathrm{N}+ \\mathrm{p} \\rightarrow ^{12}\\mathrm{C}+\\mathrm{\\alpha}$ which closes the CN cycle.\n",
    "\n",
    "The rates $<\\sigma v>$ will be held in an array rate with length 4. In order to save time I will read off the values from the online tables. I "
   ]
  },
  {
   "cell_type": "code",
   "execution_count": null,
   "metadata": {
    "collapsed": false
   },
   "outputs": [],
   "source": [
    "NA=6.02214129E23  # Avoggadro number\n",
    "global rate\n",
    "\n",
    "rate=[7.36E-06]       # C12(p,g)\n",
    "rate.append(3.52E-05) # C13(p,g)\n",
    "rate.append(2.36E-07) # N14(p,g)\n",
    "rate.append(2.03E-02) # N15(p,a)\n",
    "\n",
    "rate = array(rate)/NA\n",
    "print (rate)\n",
    "# we can see from the large difference in value for the\n",
    "# rates that this set of ODEs is stiff; it may\n",
    "# require short time steps, or an implicit solution scheme\n"
   ]
  },
  {
   "cell_type": "markdown",
   "metadata": {},
   "source": [
    "I use as a template the RHS function provided in the stellar structure integration problem in Lecture_10 notebook.\n",
    "\n",
    "Before I start I remind myself of the order of species in my species array:"
   ]
  },
  {
   "cell_type": "code",
   "execution_count": null,
   "metadata": {
    "collapsed": false
   },
   "outputs": [],
   "source": [
    "# this is the indexing of the abundance vector y, X, Y:\n",
    "for i in ind:\n",
    "    print(i-1, elem[i-1], A[i-1])"
   ]
  },
  {
   "cell_type": "code",
   "execution_count": null,
   "metadata": {
    "collapsed": false
   },
   "outputs": [],
   "source": [
    "def react_terms(y):\n",
    "    terms=[]\n",
    "    terms.append(rate[0]*y[2]*y[0]) # 0 C12(p,g)\n",
    "    terms.append(rate[1]*y[3]*y[0]) # 1 C13(p,g)\n",
    "    terms.append(rate[2]*y[4]*y[0]) # 2 N14(p,g)\n",
    "    terms.append(rate[3]*y[5]*y[0]) # 3 N15(p,a)\n",
    "    return array(terms)"
   ]
  },
  {
   "cell_type": "code",
   "execution_count": null,
   "metadata": {
    "collapsed": true
   },
   "outputs": [],
   "source": [
    "def f_rhs(y,t):\n",
    "    '''Provide RHS for CN network equations''' \n",
    "\n",
    "    terms = react_terms(y)\n",
    "\n",
    "    dh1_dt  =  -terms.sum()\n",
    "    dhe4_dt =   terms[3]\n",
    "    dc12_dt =  -terms[0] + terms[3]\n",
    "    dc13_dt =  -terms[1] + terms[0]\n",
    "    dn14_dt =  -terms[2] + terms[1]\n",
    "    dn15_dt =  -terms[3] + terms[2]\n",
    "    \n",
    "    return [dh1_dt,dhe4_dt,dc12_dt,dc13_dt,dn14_dt,dn15_dt]"
   ]
  },
  {
   "cell_type": "markdown",
   "metadata": {},
   "source": [
    "To integrate I will first try integrate.odeint from the scipy package as in Lecture 10. The time scale for this exponential decay will be of order $1/(Y \\times rate \\times \\rho )$ in s"
   ]
  },
  {
   "cell_type": "code",
   "execution_count": null,
   "metadata": {
    "collapsed": false
   },
   "outputs": [],
   "source": [
    "rho = 100. #cgs\n",
    "1./(1.e-2*rate[1]*NA*rho) #in seconds"
   ]
  },
  {
   "cell_type": "code",
   "execution_count": null,
   "metadata": {
    "collapsed": false
   },
   "outputs": [],
   "source": [
    "# intial conditions in right units:\n",
    "X=array(X,float)\n",
    "A=array(A,float)\n",
    "N0=(X/A)*rho*NA\n",
    "marks=['-o','--s','-^','--h','--o','-s']"
   ]
  },
  {
   "cell_type": "code",
   "execution_count": null,
   "metadata": {
    "collapsed": false
   },
   "outputs": [],
   "source": [
    "# initial number density for all species:\n",
    "print(N0)"
   ]
  },
  {
   "cell_type": "code",
   "execution_count": null,
   "metadata": {
    "collapsed": false
   },
   "outputs": [],
   "source": [
    "# tester react_terms:\n",
    "y0=array(X,dtype=float)\n",
    "terms = react_terms(N0)\n",
    "terms[0], rate[0], N0[0], N0[2]"
   ]
  },
  {
   "cell_type": "code",
   "execution_count": null,
   "metadata": {
    "collapsed": false
   },
   "outputs": [],
   "source": [
    "# tester f_rhs\n",
    "steps=100\n",
    "t=linspace(0.01,2.e3,steps)  \n",
    "f_rhs(N0,t)"
   ]
  },
  {
   "cell_type": "code",
   "execution_count": null,
   "metadata": {
    "collapsed": false
   },
   "outputs": [],
   "source": [
    "def integrate_netw(f_rhs,N0,t):\n",
    "    '''Integrate network \n",
    "    \n",
    "    Parameters:\n",
    "    -----------\n",
    "    f_rhs : function\n",
    "        network RHS\n",
    "    \n",
    "    N0 : array, float\n",
    "        initial abundance array, number densities\n",
    "    \n",
    "    t : array, float\n",
    "        time step array\n",
    "    \n",
    "    '''\n",
    "    from scipy import integrate\n",
    "    N=integrate.odeint(f_rhs,N0,t)\n",
    "    X=[]  # extract final output in mass fraction\n",
    "    for i in ind:\n",
    "    # X = Y*A = A*N/(rho*Na)\n",
    "        X.append(N.transpose()[i-1]*A[i-1]/(rho*NA))\n",
    "    print(\"Final abundance H: \",X[0][-1])\n",
    "    return X"
   ]
  },
  {
   "cell_type": "code",
   "execution_count": null,
   "metadata": {
    "collapsed": false
   },
   "outputs": [],
   "source": [
    "steps=10000\n",
    "t=linspace(0.01,2.e3,steps)  \n",
    "X=integrate_netw(f_rhs,N0,t)"
   ]
  },
  {
   "cell_type": "code",
   "execution_count": null,
   "metadata": {
    "collapsed": false
   },
   "outputs": [],
   "source": [
    "def plot_ratio(i,j,logy=False):\n",
    "    '''\n",
    "    plot ratio of species in abundance array with index i by j\n",
    "    '''\n",
    "    this_label = str(elem[i])+str(int(A[i]))+'/'+str(elem[j])+str(int(A[j]))\n",
    "    if logy:\n",
    "        yaxis=log10(X[i]/X[j])\n",
    "    else:\n",
    "        yaxis=X[i]/X[j]\n",
    "    plot(log10(t),yaxis,marks[i],label=this_label,markevery=steps/25)\n",
    "    legend(loc=0)\n",
    "\n",
    "            \n",
    "def new_figure(ifig=1):\n",
    "    '''\n",
    "    initialize new figure\n",
    "    \n",
    "    if optional figure number is provided, close first then reopen\n",
    "    '''\n",
    "    if type(i) is int:\n",
    "        close(ifig);figure(ifig)\n",
    "    else:\n",
    "        figure()\n",
    "\n",
    "new_figure()\n",
    "plot_ratio(2,3)"
   ]
  },
  {
   "cell_type": "code",
   "execution_count": null,
   "metadata": {
    "collapsed": false
   },
   "outputs": [],
   "source": [
    "new_figure(ifig=2)\n",
    "plot_ratio(2,3,logy=True)\n",
    "plot_ratio(4,5,logy=True)"
   ]
  },
  {
   "cell_type": "code",
   "execution_count": null,
   "metadata": {
    "collapsed": false
   },
   "outputs": [],
   "source": [
    "new_figure(ifig=3)\n",
    "yaxis=(X[2]+X[3])/(X[4]+X[5])\n",
    "plot(log10(t),yaxis,marks[5],label='C/N',markevery=steps/10)\n",
    "legend(loc=0)"
   ]
  },
  {
   "cell_type": "markdown",
   "metadata": {},
   "source": [
    "**Answer 1:** The equillibrium state involves $^{14}N$ to become the most abundant CN isotope.\n",
    "The elemental ratio C/N decreases to $0.03$. The $^{12}C/^{13}C$ ratio decreases to $\\approx 4$ and the N isotopic ratio reaces almost $10^5$."
   ]
  },
  {
   "cell_type": "code",
   "execution_count": null,
   "metadata": {
    "collapsed": false
   },
   "outputs": [],
   "source": [
    "steps=10000\n",
    "t=linspace(0.001,1.e3,steps) \n",
    "X=integrate_netw(f_rhs,N0,t)"
   ]
  },
  {
   "cell_type": "code",
   "execution_count": null,
   "metadata": {
    "collapsed": false
   },
   "outputs": [],
   "source": [
    "new_figure(ifig=4)\n",
    "for i in range(len(X)):\n",
    "    plot(t,log10(X[i]),marks[i],label=str(elem[i])+str(A[i]),markevery=steps/10)\n",
    "legend(loc=0)"
   ]
  },
  {
   "cell_type": "markdown",
   "metadata": {},
   "source": [
    "**Answer 2:** The equillibrium state is certainly reached by $10,000\\mathrm{s}$.\n"
   ]
  },
  {
   "cell_type": "code",
   "execution_count": null,
   "metadata": {
    "collapsed": false
   },
   "outputs": [],
   "source": [
    "steps=20\n",
    "t=linspace(0,1.e7,steps)\n",
    "X=integrate_netw(f_rhs,N0,t)"
   ]
  },
  {
   "cell_type": "code",
   "execution_count": null,
   "metadata": {
    "collapsed": false
   },
   "outputs": [],
   "source": [
    "tab_format = lambda XXX_list: [\"%.2e\"%xxx for xxx in XXX_list]\n",
    "tab_format(X[0]) "
   ]
  },
  {
   "cell_type": "code",
   "execution_count": null,
   "metadata": {
    "collapsed": false
   },
   "outputs": [],
   "source": [
    "from prettytable import PrettyTable\n",
    "xx = PrettyTable()\n",
    "xx.add_column(\"time/[s]\",tab_format(t))\n",
    "i=1\n",
    "for this_species in X:\n",
    "    xx.add_column(str(elem[i-1])+str(int(A[i-1])),[\"%.2e\"%xxx for xxx in this_species])\n",
    "    i += 1\n",
    "print(xx)"
   ]
  },
  {
   "cell_type": "code",
   "execution_count": null,
   "metadata": {
    "collapsed": false
   },
   "outputs": [],
   "source": [
    "ind_H0p9=max(where(X[0]>X[0][0]*0.9)[0])\n",
    "t_H10pc = array(t[ind_H0p9])/3.14e7\n",
    "print (\"Answer 3:\")\n",
    "print (\"10% H1 is burnt after \"+str(\"%.4f\"%t_H10pc)+\"yr.\")"
   ]
  },
  {
   "cell_type": "code",
   "execution_count": null,
   "metadata": {
    "collapsed": false
   },
   "outputs": [],
   "source": [
    "new_figure(ifig=5)\n",
    "\n",
    "# check answer visually\n",
    "marks=['-o','--s','-^','--h','--o','-s']\n",
    "for i in range(len(X)):\n",
    "    plot(t,X[i],marks[i],label=str(elem[i])+str(A[i]))\n"
   ]
  },
  {
   "cell_type": "code",
   "execution_count": null,
   "metadata": {
    "collapsed": true
   },
   "outputs": [],
   "source": []
  }
 ],
 "metadata": {
  "kernelspec": {
   "display_name": "Python 3",
   "language": "python",
   "name": "python3"
  },
  "language_info": {
   "codemirror_mode": {
    "name": "ipython",
    "version": 3
   },
   "file_extension": ".py",
   "mimetype": "text/x-python",
   "name": "python",
   "nbconvert_exporter": "python",
   "pygments_lexer": "ipython3",
   "version": "3.5.1"
  }
 },
 "nbformat": 4,
 "nbformat_minor": 0
}
