{
 "cells": [
  {
   "cell_type": "code",
   "execution_count": 5,
   "metadata": {
    "collapsed": false
   },
   "outputs": [
    {
     "name": "stdout",
     "output_type": "stream",
     "text": [
      "Midpt  10 :  2.0082484079079743546913938701\n",
      "3/8 int  10 :  2.0003822420892664046832010172\n",
      "Spline  10 :  1.9999728781779358213754882456 \n",
      "\n",
      "Midpt  100 :  2.0000822490709862614159317284\n",
      "3/8 int  100 :  2.0000000253572911782656840174\n",
      "Spline  100 :  1.9999999972941315593390546046 \n",
      "\n",
      "Midpt  1000 :  2.0000008224672703033269739693\n",
      "3/8 int  1000 :  2.0000000000024448741303500186\n",
      "Spline  1000 :  1.9999999999997201996573554638 \n",
      "\n"
     ]
    }
   ],
   "source": [
    "from mpmath import *\n",
    "from sympy import *\n",
    "\n",
    "sym_x = Symbol('x')\n",
    "\n",
    "mp.dps = 30\n",
    "mp.prec = mp.dps * 3.34\n",
    "mp.pretty = True\n",
    "\n",
    "## takes [f a sympy function], [I the interval], [k an integer]\n",
    "def midpt_integral(f, I, k): \n",
    "    sum = mpf(0)\n",
    "    F = lambdify(sym_x, f, \"mpmath\")\n",
    "    deltax = (I[1]-I[0])/mpf(k)\n",
    "    for i in range(k):\n",
    "        x = ((i/mpf(k))*I[1]) + ((1-(i/mpf(k)))*I[0]) + deltax/2\n",
    "        sum += F(x)*deltax\n",
    "    return sum\n",
    "\n",
    "## [f a sympy function], [I the interval], [k an integer]\n",
    "def threeeight_integral(f, I, k): \n",
    "    sum = mpf(0)\n",
    "    F = lambdify(sym_x, f, \"mpmath\")\n",
    "    deltax = (I[1]-I[0])/mpf(k)\n",
    "    for i in range(k):\n",
    "        xa = ((i/mpf(k))*I[1]) + ((1-i/mpf(k))*I[0]) \n",
    "        xb = xa + deltax/3\n",
    "        xc = xb + deltax/3\n",
    "        xd = xc + deltax/3\n",
    "        sum += ( F(xa) + 3*F(xb) + 3*F(xc) + F(xd) )*deltax/8\n",
    "    return sum\n",
    "\n",
    "## takes [f a sympy function], [I the interval], [k an integer]\n",
    "def spline_integral(f, I, k):\n",
    "    fp = diff(f, sym_x)\n",
    "    F = lambdify(sym_x, f, \"mpmath\")\n",
    "    Fp = lambdify(sym_x, fp, \"mpmath\")\n",
    "    ## the above allows us to call F and F'. \n",
    "    sum = mpf(0.0)\n",
    "    deltax = (I[1]-I[0])/mpf(k)\n",
    "    for i in range(k):\n",
    "        xa = (i/float(k))*I[1] + (mpf(1.0)-(i/float(k)))*I[0]\n",
    "        xb = xa + deltax\n",
    "        \n",
    "        c2 = -((deltax)**(-3)) * (3*(xb+xa)*(F(xa)-F(xb)+xb*Fp(xb)-xa*Fp(xa))-2*(xb**2+xb*xa+xa**2)*(Fp(xb)-Fp(xa)))\n",
    "        c3 = -((deltax)**(-3)) * ( (-2*(F(xa)-F(xb)+xb*Fp(xb)-xa*Fp(xa))) + (xb+xa)*(Fp(xb)-Fp(xa)) )\n",
    "\n",
    "        c1 = Fp(xa)-3*c3*(xa**2)-2*c2*xa\n",
    "        c0 = F(xa) - c3*(xa**3) - c2*(xa**2) - c1*xa\n",
    "        #print c0, c1, c2, c3\n",
    "        sum += c0*(xb-xa) + (c1/2)*(xb**2 - xa**2) + (c2/3)*(xb**3-xa**3) + (c3/4)*(xb**4-xa**4)\n",
    "    return sum\n",
    "\n",
    "#sym_func = sym_x**3 ## 0 to 1 is 1/4\n",
    "#print \"Integral of x^3 from 0 to 1... should be 1/4.\"\n",
    "#print \"Midpt 30:   \", midpt_integral(sym_func, [mpf(0.0), mpf(1.0)], divisions)\n",
    "#print \"3/8 int 30: \", threeeight_integral(sym_func, [mpf(0.0), mpf(1.0)], divisions/3)\n",
    "#print \"Spline 30:  \", spline_integral(sym_func, [mpf(0.0), mpf(1.0)], divisions), \"\\n\"\n",
    "\n",
    "sym_func = sin(sym_x)\n",
    "divisions = 10\n",
    "print(\"Midpt \", divisions, \": \", midpt_integral(sym_func, [mpf(0.0), mpmath.pi], divisions))\n",
    "print(\"3/8 int \", divisions, \": \", threeeight_integral(sym_func, [mpf(0.0), mpmath.pi], divisions//3))\n",
    "print(\"Spline \", divisions, \": \", spline_integral(sym_func, [mpf(0.0), mpmath.pi], divisions), \"\\n\")\n",
    "\n",
    "divisions = 100\n",
    "print(\"Midpt \", divisions, \": \", midpt_integral(sym_func, [mpf(0.0), mpmath.pi], divisions))\n",
    "print(\"3/8 int \", divisions, \": \", threeeight_integral(sym_func, [mpf(0.0), mpmath.pi], divisions//3))\n",
    "print(\"Spline \", divisions, \": \", spline_integral(sym_func, [mpf(0.0), mpmath.pi], divisions), \"\\n\")\n",
    "\n",
    "divisions = 1000\n",
    "print(\"Midpt \", divisions, \": \", midpt_integral(sym_func, [mpf(0.0), mpmath.pi], divisions))\n",
    "print(\"3/8 int \", divisions, \": \", threeeight_integral(sym_func, [mpf(0.0), mpmath.pi], divisions//3))\n",
    "print(\"Spline \", divisions, \": \", spline_integral(sym_func, [mpf(0.0), mpmath.pi], divisions), \"\\n\")\n"
   ]
  },
  {
   "cell_type": "code",
   "execution_count": 6,
   "metadata": {
    "collapsed": false
   },
   "outputs": [
    {
     "name": "stdout",
     "output_type": "stream",
     "text": [
      "Midpoint times:  [0.03927421569824219, 0.04446244239807129, 0.057367801666259766, 0.07830286026000977, 0.09740138053894043]\n",
      "3/8 times:  [0.025030136108398438, 0.03654146194458008, 0.04918646812438965, 0.06427812576293945, 0.07941818237304688]\n",
      "spline times:  [0.2687711715698242, 0.38745665550231934, 0.5250518321990967, 0.680504322052002, 0.8696763515472412]\n"
     ]
    }
   ],
   "source": [
    "## So it appears generally the spline method is a tiny bit more accurage than the 3/8 method.  But they appear to\n",
    "## be on roughly the same order of magnitude.  For comparison's sake, let's check the relative run-times. \n",
    "\n",
    "import time\n",
    "\n",
    "timesM = []\n",
    "for i in range(5, 10):\n",
    "    startT = time.time()\n",
    "    midpt_integral(sym_func, [mpf(0.0), mpf(1.0)], 30*i*i)\n",
    "    endT = time.time()\n",
    "    timesM.append(endT-startT)\n",
    "print(\"Midpoint times: \", timesM)\n",
    "\n",
    "timesM = []\n",
    "for i in range(5, 10):\n",
    "    startT = time.time()\n",
    "    threeeight_integral(sym_func, [mpf(0.0), mpf(1.0)], 10*i*i)\n",
    "    endT = time.time()\n",
    "    timesM.append(endT-startT)\n",
    "print(\"3/8 times: \", timesM)\n",
    "\n",
    "timesM = []\n",
    "for i in range(5, 10):\n",
    "    startT = time.time()\n",
    "    spline_integral(sym_func, [mpf(0.0), mpf(1.0)], 30*i*i)\n",
    "    endT = time.time()\n",
    "    timesM.append(endT-startT)\n",
    "print(\"spline times: \", timesM)"
   ]
  },
  {
   "cell_type": "markdown",
   "metadata": {},
   "source": [
    "From this perspective, the 3/8-ths technique is the fastest, the spline **by far** the slowest.  So perhaps 3/8\n",
    "Would make more sense to use.  Perhaps we can simplify the algebra in the spline technique? We can probably factor-out some of the xb-xa = deltax terms. It looks like the algebra is more computation-intensive than it needs to be.  Well, I'm not having any luck with that. "
   ]
  },
  {
   "cell_type": "code",
   "execution_count": null,
   "metadata": {
    "collapsed": true
   },
   "outputs": [],
   "source": []
  },
  {
   "cell_type": "code",
   "execution_count": null,
   "metadata": {
    "collapsed": false
   },
   "outputs": [],
   "source": []
  },
  {
   "cell_type": "code",
   "execution_count": null,
   "metadata": {
    "collapsed": true
   },
   "outputs": [],
   "source": []
  },
  {
   "cell_type": "code",
   "execution_count": null,
   "metadata": {
    "collapsed": true
   },
   "outputs": [],
   "source": []
  }
 ],
 "metadata": {
  "kernelspec": {
   "display_name": "Python 3",
   "language": "python",
   "name": "python3"
  },
  "language_info": {
   "codemirror_mode": {
    "name": "ipython",
    "version": 3
   },
   "file_extension": ".py",
   "mimetype": "text/x-python",
   "name": "python",
   "nbconvert_exporter": "python",
   "pygments_lexer": "ipython3",
   "version": "3.4.3"
  }
 },
 "nbformat": 4,
 "nbformat_minor": 0
}
