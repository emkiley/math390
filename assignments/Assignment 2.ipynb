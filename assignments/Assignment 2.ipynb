{
 "cells": [
  {
   "cell_type": "markdown",
   "metadata": {},
   "source": [
    "# Assignment 2\n",
    "\n",
    "**Due:** Friday, Feb 5, 22:30pm\n",
    "\n",
    "## General comments\n",
    "\n",
    "Please observe the general instructions provided in [Assignment 0](Assignment 0.ipynb) concerning naming. All files are in the directory `Assignment_02` in the top-level directory of your repo. Name your files: *AnPm.ipynb* for assignment number *n* and problem number *m*. In addition to the ipython notebook file provide a static html version (`File menu` $\\rightarrow$ `Download as`)\n",
    "\n",
    "This is an **individual** assignment, and not a group assignment."
   ]
  },
  {
   "cell_type": "markdown",
   "metadata": {},
   "source": [
    "## Problem 1\n",
    "1. Create your own linear algebra module `linalg` that can be imported into your notebook. This may just be a `.py` file in the assignment directory. \n",
    "2. Add a function that takes a matrix (as an array of arrays) and a vector which together represent a set of equations ($\\vec{u} = {\\bf A} \\cdot \\vec{v}$) as input. The function solves the equations, i.e. returns $\\vec{v}$. Use the Gaussian elemination technique.\n",
    "3. Your function should have some checks to prevent the user from misusing the function in the most obvious way. Think about and comment on other not so obvious ways in which your function could fail. \n",
    "4. In your solution notebook create an example that tests your function. E.g. set up your test so that it returns a known solution. Use a library from `numpy.linalg` to do the same test problem."
   ]
  },
  {
   "cell_type": "markdown",
   "metadata": {},
   "source": [
    "## Problem 2\n",
    "\n",
    "Consider the resistor circuit discussed [in class](../Week_04.ipynb): ![Resistor](../images/ResistorCircuit.jpg) \n",
    "\n",
    "Determine the voltage at each of the junctions if $V_\\mathrm{Rail} = 5\\mathrm{V}$ and all resistors of the same resistance."
   ]
  },
  {
   "cell_type": "markdown",
   "metadata": {},
   "source": [
    "## Problem 3\n",
    "\n",
    " 1. Use the simplejson library to load the data in stats/asst2.data.txt.\n",
    " 2. Interpret this data as a list of 1000 $x$-coordinates, followed by the corresponding list of 1000 $y$-coordinates. \n",
    " 3. Fit the data using the functions $f_1 = 1$, $f_2 = x$, $f_3 = x^2$, $f_4 = sin(x)$, $f_5 = sin(2x)$, $f_6 = sin(3x)$, using least-squares interpolation.  Print out the coefficients of each function.\n",
    " 4. Compute the 1st, 2nd, 3rd and 4th moments of the data about the fitted curve.  \n",
    " 5. Plot the data together with your fitted curve. "
   ]
  }
 ],
 "metadata": {
  "kernelspec": {
   "display_name": "Python 3",
   "language": "python",
   "name": "python3"
  },
  "language_info": {
   "codemirror_mode": {
    "name": "ipython",
    "version": 3
   },
   "file_extension": ".py",
   "mimetype": "text/x-python",
   "name": "python",
   "nbconvert_exporter": "python",
   "pygments_lexer": "ipython3",
   "version": "3.5.1"
  }
 },
 "nbformat": 4,
 "nbformat_minor": 0
}
