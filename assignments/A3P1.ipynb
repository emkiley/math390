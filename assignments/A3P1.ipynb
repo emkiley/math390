{
 "cells": [
  {
   "cell_type": "markdown",
   "metadata": {},
   "source": [
    "# Assignment 3, Problem 1.\n",
    "\n",
    "For this problem we will ask you to perform three tasks. \n",
    "\n",
    "1) Write functions that produce various $2 \\times 2$ numpy matrices. \n",
    "\n",
    "    a) A function R that takes an argument t, which returns the matrix that performs counter-clockwise rotation by t radians. \n",
    " \n",
    "    b) A function M that takes an argument t, which returns the matrix that performs mirror-reflection across the line through the origin that has angle t with the x-axis. \n",
    "    \n",
    "    c) A function S that takes an argument t, which returns the matrix that scales the x-coordinate by t, and leaves the y-coordinate fixed. \n",
    "    "
   ]
  },
  {
   "cell_type": "code",
   "execution_count": 12,
   "metadata": {
    "collapsed": false
   },
   "outputs": [
    {
     "name": "stdout",
     "output_type": "stream",
     "text": [
      "(2, 2)\n",
      "0\n"
     ]
    }
   ],
   "source": [
    "import numpy as np\n",
    "## returns CCW numpy rotation matrix, angle t in radians\n",
    "def R(t):\n",
    "    return np.matrix([[np.cos(t), -np.sin(t)], [np.sin(t), np.cos(t)]])\n",
    "\n",
    "## returns mirror reflection matrix.  We will use problem (2) as our definition, \n",
    "## i.e. M(t/2) = R(t) * M(0)^-1, but M(0)^-1 = M(0). \n",
    "def M(t): \n",
    "    return R(2*t)*np.matrix([[1, 0], [0,-1]])\n",
    "\n",
    "## x-coordinate scale\n",
    "def S(t):\n",
    "    return np.matrix([[t, 0], [0,1]])\n",
    "print(S(0).shape)\n",
    "print(S(0)[0,0])"
   ]
  },
  {
   "cell_type": "markdown",
   "metadata": {},
   "source": [
    "2) Write a function that checks to see whether or not the identity \n",
    "\n",
    "$$M(t/2)M(0) = R(t)$$\n",
    "\n",
    "is holds (if not, it should at least hold to **high degree of precision**), and check for at least $5$ different values of $t$ with $0 < t < \\pi/2$. "
   ]
  },
  {
   "cell_type": "code",
   "execution_count": 70,
   "metadata": {
    "collapsed": false
   },
   "outputs": [
    {
     "name": "stdout",
     "output_type": "stream",
     "text": [
      "[[ 0.  0.]\n",
      " [ 0.  0.]]\n",
      "True\n",
      "[[ 0.  0.]\n",
      " [ 0.  0.]]\n",
      "True\n",
      "[[ 0.  0.]\n",
      " [ 0.  0.]]\n",
      "True\n",
      "[[ 0.  0.]\n",
      " [ 0.  0.]]\n",
      "True\n",
      "[[ 0.  0.]\n",
      " [ 0.  0.]]\n",
      "True\n"
     ]
    }
   ],
   "source": [
    "## let's create a function that checks if a matrix is \"small\"\n",
    "## returns the sum of the squares of the entries of the matrix.\n",
    "def smallMatrix(A):\n",
    "    summ = 0.0\n",
    "    for i in range(A.shape[0]):\n",
    "        for j in range(A.shape[1]):\n",
    "            summ += A[i,j]**2\n",
    "    return summ\n",
    "    \n",
    "for i in range(5):\n",
    "    t = i*np.pi/10\n",
    "    checkMat = M(t/2)*M(0.0) - R(t)\n",
    "    print(checkMat)\n",
    "    print(smallMatrix(checkMat)<0.00000001)\n",
    "    \n",
    "## okay, all effectively zero.  So the identity holds. "
   ]
  },
  {
   "cell_type": "markdown",
   "metadata": {},
   "source": [
    "3) Generate a plot of the function $y=\\cos(x^2)$ in the plane, with $-1 \\leq x \\leq 3$.  Use matplotlib to plot it, together with a rotation and mirror reflection (choose a $0 < t < \\pi/6$) and a scaling (with $t=1/3$).  Use different colours for the transformed graphs."
   ]
  },
  {
   "cell_type": "markdown",
   "metadata": {},
   "source": []
  },
  {
   "cell_type": "code",
   "execution_count": 71,
   "metadata": {
    "collapsed": false
   },
   "outputs": [
    {
     "data": {
      "text/plain": [
       "[<matplotlib.lines.Line2D at 0x7ff87e8e35c0>]"
      ]
     },
     "execution_count": 71,
     "metadata": {},
     "output_type": "execute_result"
    },
    {
     "data": {
      "image/png": "[encoded data removed]",
      "text/plain": [
       "<matplotlib.figure.Figure at 0x7ff8815b6860>"
      ]
     },
     "metadata": {},
     "output_type": "display_data"
    }
   ],
   "source": [
    "import matplotlib.pyplot as mpl\n",
    "%matplotlib inline\n",
    "\n",
    "x = np.arange(-1,3,0.01)\n",
    "y = np.cos(x**2)\n",
    "\n",
    "mpl.plot(x,y)"
   ]
  },
  {
   "cell_type": "code",
   "execution_count": 73,
   "metadata": {
    "collapsed": false
   },
   "outputs": [],
   "source": [
    "## let's make the x,y coordinates into a 2-dimensional numpy array. \n",
    "xy = np.array([x,y])\n",
    "## this is something we can multiply with a 2x2 matrix."
   ]
  },
  {
   "cell_type": "code",
   "execution_count": 78,
   "metadata": {
    "collapsed": false
   },
   "outputs": [
    {
     "data": {
      "text/plain": [
       "[<matplotlib.lines.Line2D at 0x7ff87e2bdeb8>,\n",
       " <matplotlib.lines.Line2D at 0x7ff87e2c50b8>,\n",
       " <matplotlib.lines.Line2D at 0x7ff87e2c5a20>,\n",
       " <matplotlib.lines.Line2D at 0x7ff87e2ca240>]"
      ]
     },
     "execution_count": 78,
     "metadata": {},
     "output_type": "execute_result"
    },
    {
     "data": {
      "image/png": "[encoded data removed]",
      "text/plain": [
       "<matplotlib.figure.Figure at 0x7ff87e2fb6a0>"
      ]
     },
     "metadata": {},
     "output_type": "display_data"
    }
   ],
   "source": [
    "RotDat = R(0.1)*xy\n",
    "MirDat = M(0.4)*xy\n",
    "SclDat = S(0.33)*xy\n",
    "\n",
    "## RotDat[0] has the information we want but python is thinking of it as a 1xn matrix.\n",
    "## we use squeeze(asarray) to fix that\n",
    "def SA(arr):\n",
    "    return np.squeeze(np.asarray(arr))\n",
    "\n",
    "mpl.plot(x,y,'k-', \n",
    "         SA(RotDat[0]), SA(RotDat[1]), 'r-', \n",
    "         SA(MirDat[0]), SA(MirDat[1]), 'b-', \n",
    "         SA(SclDat[0]), SA(SclDat[1]), 'g-')\n"
   ]
  },
  {
   "cell_type": "code",
   "execution_count": null,
   "metadata": {
    "collapsed": true
   },
   "outputs": [],
   "source": []
  }
 ],
 "metadata": {
  "kernelspec": {
   "display_name": "Python 3",
   "language": "python",
   "name": "python3"
  },
  "language_info": {
   "codemirror_mode": {
    "name": "ipython",
    "version": 3
   },
   "file_extension": ".py",
   "mimetype": "text/x-python",
   "name": "python",
   "nbconvert_exporter": "python",
   "pygments_lexer": "ipython3",
   "version": "3.4.3"
  }
 },
 "nbformat": 4,
 "nbformat_minor": 0
}
