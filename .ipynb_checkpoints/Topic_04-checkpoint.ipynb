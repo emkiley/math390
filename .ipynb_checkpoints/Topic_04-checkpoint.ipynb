{
 "cells": [
  {
   "cell_type": "markdown",
   "metadata": {},
   "source": [
    "# Week 4"
   ]
  },
  {
   "cell_type": "markdown",
   "metadata": {},
   "source": [
    "## 1. Introduction to linear algebra\n",
    "\n",
    "The goal of this section an [introduction to linear algebra] is to introduce vectors and matrices that can be used to solve numerous problems, in physics and math. We will use these to solve systems of equatuions. In this section we will\n",
    "\n",
    "1. introduce to vectors as numpy arrays and matrices as arrays of arrays\n",
    "2. how are arrays created\n",
    "3. operation between arrays that represent operations between matrices and vectors\n",
    "4. use these techniques to implement the Gaussian elimination scheme to solve set of linear equations"
   ]
  },
  {
   "cell_type": "markdown",
   "metadata": {},
   "source": [
    "### Notebooks\n",
    "\n",
    "* [Arrays, vectors, matrices, operations](LinAlg.ipynb)\n",
    "* [Gaussian elimination](Gaussian_elimination.ipynb)"
   ]
  },
  {
   "cell_type": "markdown",
   "metadata": {},
   "source": [
    "### Resources: \n",
    "\n",
    "_Reference numbers refer to the list given in the Week_01 notebook in the section **Literature and online resources**_\n",
    "\n",
    "* Linear Algebra:\n",
    "    * Chapter 6 in [1]\n",
    "    * Chapter 4.4 in [6]\n",
    "* [Array creation in Python](http://docs.scipy.org/doc/numpy-1.10.1/user/basics.creation.html)\n",
    "* more Python programming with arrays for example in Chapter 5 in [3]"
   ]
  },
  {
   "cell_type": "markdown",
   "metadata": {},
   "source": [
    "***Homework: ***\n",
    "\n",
    "1. Implement a function for the dot and cross product to your my_lib module.\n",
    "2. Implement a function that takes as input an array and a matrix (as an array of arrays) and returns the product of the vector and the matrix. Consider what checks would have to be considered so that user errors are prevented. Also remember documentation.\n",
    "2. Implement a function that takes a matrix (again as an array of arrays) and a vector that represent a set of equations ($\\vec{u} = {\\bf A} \\cdot \\vec{v}$) and solves the equations, i.e. returns $\\vec{v}$."
   ]
  },
  {
   "cell_type": "markdown",
   "metadata": {},
   "source": [
    "## 2. Applications linear algebra\n",
    "\n",
    "\n",
    "In the previous section we have seen how we can use arrays to code up simple tasks in linear algebra, such as the Gaussian elimination. \n",
    "\n",
    "### Circuit of resistors\n",
    "A circuit of resistors, all with the same resistance, connects ground with a power rail at the voltage $V_\\mathrm{Rail}$ as shown in this diagram: ![Resistor](images/ResistorCircuit.jpg)\n",
    "\n",
    "The sum of all currents at any junction points must be zero (Kirchhoff current law) and Ohm's law relates current $I$, voltage $V$ and resistance $R = \\frac{V}{I}$. \n",
    "\n",
    "**Homework:**\n",
    "1. Determine for each junction the equation that represents the Kirchhoff current law in terms of the voltages.\n",
    "2. Solve the set of equations and determine the voltage at each of the junctions.\n",
    "\n",
    "### More linear algebra\n",
    "* [more linear algebra](LinAlgPlus.ipynb)\n",
    "\n",
    "### Linear transformations\n",
    "Imagine we have 2D set of points (or any object). We can use matrices to express linear transformations for such point sets, such as reflection, rotation or scaling, see [Examples of linear transformation matrices](https://en.wikipedia.org/wiki/Linear_map). Let's implement a framework to experiment with such linear maps. \n",
    "\n",
    "* [Linear transformations notebook](LinTrans.ipynb)\n",
    "\n",
    "**Homework:**\n",
    "\n",
    "1. Implement a method in your `pylib` library that allows you to transform an arbirtrary point set given a transformation matrix.\n",
    "2. Create three examples of point sets that demonstrate the reflection, rotation and scaling transformation. Apply these transformations and generate appropriate plots.\n",
    "\n",
    "### Tools & Utilities:\n",
    "\n",
    "* [python package and modules](examples/python package and modules.ipynb)"
   ]
  },
  {
   "cell_type": "markdown",
   "metadata": {},
   "source": [
    "## 3. Theory and examples of least-squares interpolation using linear algebra\n",
    "* a flexible and general presentation of least squares\n",
    "* and how one solves (quite flexibly) for functions that interpolate a wide variety of data\n",
    "* see [interpolation example](./examples/least-squares.sketch.ipynb)\n",
    "* moments of distributions. \n",
    "\n",
    "***Homework: ***\n",
    " 1. Use the simplejson library to load the data in stats/asst2.data.txt.\n",
    " 2. Interpret this data as a list of 1000 $x$-coordinates, followed by the corresponding list of 1000 $y$-coordinates. \n",
    " 3. Fit the data using the functions $f_1 = 1$, $f_2 = x$, $f_3 = x^2$, $f_4 = sin(x)$, $f_5 = sin(2x)$, $f_6 = sin(3x)$, using least-squares interpolation.  Print out the coefficients of each function.\n",
    " 4. Compute the 1st, 2nd, 3rd and 4th moments of the data about the fitted curve.  \n",
    " 5. Plot the data together with your fitted curve. "
   ]
  },
  {
   "cell_type": "markdown",
   "metadata": {
    "collapsed": true
   },
   "source": [
    "## Tutorials this week\n",
    "\n",
    "1. work through homework of session 1\n",
    "2. with the TAs go over the material presented in session 3 so that you are able to apply it in an assignment\n"
   ]
  }
 ],
 "metadata": {
  "kernelspec": {
   "display_name": "Python 3",
   "language": "python",
   "name": "python3"
  },
  "language_info": {
   "codemirror_mode": {
    "name": "ipython",
    "version": 3
   },
   "file_extension": ".py",
   "mimetype": "text/x-python",
   "name": "python",
   "nbconvert_exporter": "python",
   "pygments_lexer": "ipython3",
   "version": "3.6.3"
  }
 },
 "nbformat": 4,
 "nbformat_minor": 1
}
