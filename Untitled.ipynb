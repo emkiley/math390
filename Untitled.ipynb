{
 "cells": [
  {
   "cell_type": "markdown",
   "metadata": {},
   "source": [
    "# Class chat room\n",
    "\n",
    "In a software team, exchange of information and technical skills requires continuous communication. E-mail is a one-to-one communication which does not work well when questions and answers are likely of more general interest, and if more than one person in the group could provide an answer. Instead, a chat room serves the purpose better. In this class, you will try hard to not e-mail the instructor, but instead ask and get answers in a chat room. The instructor will monitor the chat room. We will use the public XMPP-based peer-to-peer network called \"jabber\".\n",
    "\n",
    "## Get a jabber account\n",
    "\n",
    "Sign up for an XMPP ID at an XMPP server of your choice. [This one works well](https://jabber.hot-chilli.net/forms/create/create.php).\n",
    "\n",
    "## Start up pidgin\n",
    "\n",
    "When you installed lubuntu on your VM, several applications were installed for various things. For example, Firefox was installed as the web browser, and AbiWord was installed as a word processor. One program that was installed is called Pidgin, and it is used for chat accounts. Start Pidgin by finding it in the \"Internet\" submenu \n",
    "\n"
   ]
  }
 ],
 "metadata": {
  "kernelspec": {
   "display_name": "Python 3",
   "language": "python",
   "name": "python3"
  },
  "language_info": {
   "codemirror_mode": {
    "name": "ipython",
    "version": 3
   },
   "file_extension": ".py",
   "mimetype": "text/x-python",
   "name": "python",
   "nbconvert_exporter": "python",
   "pygments_lexer": "ipython3",
   "version": "3.6.3"
  }
 },
 "nbformat": 4,
 "nbformat_minor": 2
}
