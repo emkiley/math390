{
 "cells": [
  {
   "cell_type": "markdown",
   "metadata": {},
   "source": [
    "# Week 3\n",
    "\n",
    "## A little more numerical analysis: \n",
    "\n",
    "- Approximating integrals. \n",
    "- Midpoint method\n",
    "- 3/8 method\n",
    "- Cubic spline method sketch (is part of your homework)\n",
    "- [sample code](./numerical.analysis/NA.PI-integral.ipynb)\n",
    "\n",
    "# Data acquisition\n",
    "\n",
    "- Using libraries to scrape the internet for data.\n",
    "- urllib and json libraries for scraping WUnderground and Google sites\n",
    "- [basic scraping](https://github.com/fherwig/physmath248_pilot/blob/master/stats/scrape_basic.ipynb)\n",
    "- [scraping with a purpose, Weather Underground](https://github.com/fherwig/physmath248_pilot/blob/master/stats/Scrape_WUnderground.ipynb)\n",
    "\n",
    "# Simple analysis of data. \n",
    "\n",
    "- Basic statistical analysis of data. How to find trends. \n",
    "- 2d plots can be a good way to spot trends \"by eye\". [matplotlib](https://github.com/fherwig/physmath248_pilot/blob/master/stats/Scrape_WUnderground.ipynb)\n",
    "- Linear regression is a method to spot linear relationships in data. [scipy.stats] for single variable regression, [statsmodels] for multi-variable regression (run \"pip install statsmodels\" if you wish to install this library). [regression example 1](https://github.com/fherwig/physmath248_pilot/blob/master/stats/Scrape_WUnderground.ipynb) [regression example 2 -- multivariable] (https://github.com/fherwig/physmath248_pilot/blob/master/stats/regression.ipynb)\n",
    "- Clustering is a method to discover some non-linear relationships in data. [scipy.cluster](https://github.com/fherwig/physmath248_pilot/blob/master/stats/clustering.ipynb)"
   ]
  },
  {
   "cell_type": "markdown",
   "metadata": {},
   "source": [
    "# Tutorial This Week : \n",
    "- Start working on your first homework assignment. \n",
    "- The assignment is due at 1pm on Monday, March 05.. \n",
    "- Work in groups of 2 or 3 if you like.\n",
    "\n",
    "# First graded homework assignment (in groups)\n",
    "\n",
    "See the assignments directory: [Assignment 1](https://github.com/emkiley/math390/blob/master/assignments/Assignment%201.ipynb)"
   ]
  },
  {
   "cell_type": "code",
   "execution_count": null,
   "metadata": {
    "collapsed": true
   },
   "outputs": [],
   "source": []
  }
 ],
 "metadata": {
  "kernelspec": {
   "display_name": "Python 3",
   "language": "python",
   "name": "python3"
  },
  "language_info": {
   "codemirror_mode": {
    "name": "ipython",
    "version": 3
   },
   "file_extension": ".py",
   "mimetype": "text/x-python",
   "name": "python",
   "nbconvert_exporter": "python",
   "pygments_lexer": "ipython3",
   "version": "3.6.3"
  }
 },
 "nbformat": 4,
 "nbformat_minor": 1
}
