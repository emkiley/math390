{
 "cells": [
  {
   "cell_type": "markdown",
   "metadata": {},
   "source": [
    "### Gaussian elimination\n",
    "\n",
    "The equation $\\vec{u} = {\\bf A} \\cdot \\vec{v}$ represents a  set of linear equations. For example, with\n",
    "\n",
    "$$\n",
    "\\matrix{A} = \\pmatrix{ 2 & 2 & 3 \\\\ \n",
    "                       4 & 5 & 5 \\\\\n",
    "                       1 & 2 & 1 }\n",
    "$$\n",
    "and $$\\vec{u} = \\pmatrix{1\\\\4\\\\2}$$ \n",
    "\n",
    "we have the linear set of equations\n",
    "\n",
    "$$\\begin{eqnarray*}\n",
    " 2 v_1 + 2 v_2 + 3 v_3 &= 1 \\\\ \n",
    " 4 v_1 + 5 v_2 + 5 v_3 &= 4 \\\\\n",
    " v_1 + 2 v_2 + v_3 &= 2\n",
    "\\end{eqnarray*}$$\n",
    "\n",
    "Let's solve the set of equations and find $\\vec{v}$.\n",
    "\n",
    "Note that the solution will not change if\n",
    "\n",
    "* we multiply an equation by any number, or if\n",
    "* we add and substract equations from each other \n",
    "\n",
    "How can we devise a scheme that finds numerically $vec{v}$ by using these rules?\n",
    "\n",
    "1. divide 1$^\\mathrm{st}$ equation by $a_{11} (= 2)$:\n",
    "$$\\begin{eqnarray*}\n",
    " v_1 + v_2 + \\frac{3}{2} v_3 &= \\frac{1}{2} \\\\ \n",
    " 4 v_1 + 5 v_2 + 5 v_3 &= 4 \\\\\n",
    " v_1 + 2 v_2 +  v_3 &= 2\n",
    "\\end{eqnarray*}$$\n",
    "2. substract $a_{21} (= 4)$ times 1$^\\mathrm{st}$ equation from 2$^\\mathrm{nd}$ equation:\n",
    "$$\\begin{eqnarray*}\n",
    " v_1 + 1 v_2 + \\frac{3}{2} v_3 &= \\frac{1}{2} \\\\ \n",
    "                   1 v_2 - 1 v_3 &= 2 \\\\\n",
    " v_1 + 2 v_2 + 1 v_3 &= 2\n",
    "\\end{eqnarray*}$$\n",
    "3. substract $a_{31} (= 1)$ times 1$^\\mathrm{st}$ equation from 3$^\\mathrm{rd}$ equation:\n",
    "$$\\begin{eqnarray*}\n",
    " v_1 + v_2 + \\frac{3}{2} v_3 &= \\frac{1}{2} \\\\ \n",
    "       v_2 -             v_3 &= 2 \\\\\n",
    "       v_2 - \\frac{1}{2} v_3 &= \\frac{3}{2}\n",
    "\\end{eqnarray*}$$\n",
    "the result is that the first column disappeared in all but the first row\n",
    "4. repeat for remaining set of equations excluding first row\n",
    "$$\\begin{eqnarray*}\n",
    " v_1 + v_2 + \\frac{3}{2} v_3 &= \\frac{1}{2} \\\\ \n",
    "       v_2 -             v_3 &= 2 \\\\\n",
    "             \\frac{1}{2} v_3 &= -\\frac{1}{2}\n",
    "\\end{eqnarray*}$$\n",
    "5. repeat until entire set of equations is in triangular form and last equation has only one variable\n",
    "6. backsubstitution: solve last equation, substitute into last-but-one, solve, substitute etc.\n",
    "\n",
    "The solution should be $$\\vec{v} = \\pmatrix{1 \\\\ 1 \\\\ -1 }$$ \n",
    "\n",
    "*** Challenge: *** Who would like to submit their Gaussian elimination code as pull-request here?"
   ]
  },
  {
   "cell_type": "code",
   "execution_count": null,
   "metadata": {
    "collapsed": true
   },
   "outputs": [],
   "source": [
    "def gausselim(A,u):\n",
    "    '''Gaussian elimination with backsubstution\n",
    "    \n",
    "    This function solves the equation u = A * v, where v, u vectors \n",
    "    of length N and A a NxN matrix.\n",
    "    \n",
    "    input: A, u\n",
    "    output solution vector v\n",
    "    '''\n",
    "    \n",
    "    your code here ....\n",
    "\n",
    "    return v"
   ]
  }
 ],
 "metadata": {
  "kernelspec": {
   "display_name": "Python 3",
   "language": "python",
   "name": "python3"
  },
  "language_info": {
   "codemirror_mode": {
    "name": "ipython",
    "version": 3
   },
   "file_extension": ".py",
   "mimetype": "text/x-python",
   "name": "python",
   "nbconvert_exporter": "python",
   "pygments_lexer": "ipython3",
   "version": "3.6.3"
  }
 },
 "nbformat": 4,
 "nbformat_minor": 1
}
